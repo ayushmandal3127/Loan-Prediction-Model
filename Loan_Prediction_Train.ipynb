{
 "cells": [
  {
   "cell_type": "code",
   "execution_count": 1,
   "id": "cb746640-fcb5-4184-bc3b-b13933e0ac67",
   "metadata": {},
   "outputs": [],
   "source": [
    "# LOAN PREDECTION"
   ]
  },
  {
   "cell_type": "code",
   "execution_count": 2,
   "id": "0ca7b61f-e308-44bd-aa89-1b0035b6400f",
   "metadata": {},
   "outputs": [],
   "source": [
    "import pandas as pd\n",
    "import numpy as np\n",
    "from sklearn.model_selection import train_test_split\n",
    "from sklearn import svm\n",
    "from sklearn.metrics import accuracy_score\n",
    "from sklearn.impute import SimpleImputer\n",
    "from sklearn.linear_model import LogisticRegression"
   ]
  },
  {
   "cell_type": "code",
   "execution_count": 3,
   "id": "99dd74ab-0129-4ea3-bbd5-fc8145b5ed81",
   "metadata": {},
   "outputs": [
    {
     "name": "stdout",
     "output_type": "stream",
     "text": [
      "      Loan_ID  Gender Married Dependents     Education Self_Employed  \\\n",
      "0    LP001002    Male      No          0      Graduate            No   \n",
      "1    LP001003    Male     Yes          1      Graduate            No   \n",
      "2    LP001005    Male     Yes          0      Graduate           Yes   \n",
      "3    LP001006    Male     Yes          0  Not Graduate            No   \n",
      "4    LP001008    Male      No          0      Graduate            No   \n",
      "..        ...     ...     ...        ...           ...           ...   \n",
      "609  LP002978  Female      No          0      Graduate            No   \n",
      "610  LP002979    Male     Yes         3+      Graduate            No   \n",
      "611  LP002983    Male     Yes          1      Graduate            No   \n",
      "612  LP002984    Male     Yes          2      Graduate            No   \n",
      "613  LP002990  Female      No          0      Graduate           Yes   \n",
      "\n",
      "     ApplicantIncome  CoapplicantIncome  LoanAmount  Loan_Amount_Term  \\\n",
      "0               5849                0.0         NaN             360.0   \n",
      "1               4583             1508.0       128.0             360.0   \n",
      "2               3000                0.0        66.0             360.0   \n",
      "3               2583             2358.0       120.0             360.0   \n",
      "4               6000                0.0       141.0             360.0   \n",
      "..               ...                ...         ...               ...   \n",
      "609             2900                0.0        71.0             360.0   \n",
      "610             4106                0.0        40.0             180.0   \n",
      "611             8072              240.0       253.0             360.0   \n",
      "612             7583                0.0       187.0             360.0   \n",
      "613             4583                0.0       133.0             360.0   \n",
      "\n",
      "     Credit_History Property_Area Loan_Status  \n",
      "0               1.0         Urban           Y  \n",
      "1               1.0         Rural           N  \n",
      "2               1.0         Urban           Y  \n",
      "3               1.0         Urban           Y  \n",
      "4               1.0         Urban           Y  \n",
      "..              ...           ...         ...  \n",
      "609             1.0         Rural           Y  \n",
      "610             1.0         Rural           Y  \n",
      "611             1.0         Urban           Y  \n",
      "612             1.0         Urban           Y  \n",
      "613             0.0     Semiurban           N  \n",
      "\n",
      "[614 rows x 13 columns]\n"
     ]
    }
   ],
   "source": [
    "df = pd.read_csv('train_u6lujuX_CVtuZ9i.csv')\n",
    "print(df)"
   ]
  },
  {
   "cell_type": "code",
   "execution_count": 4,
   "id": "4ac4692a-89c0-47be-8890-bc3010fda8a3",
   "metadata": {},
   "outputs": [
    {
     "data": {
      "text/html": [
       "<div>\n",
       "<style scoped>\n",
       "    .dataframe tbody tr th:only-of-type {\n",
       "        vertical-align: middle;\n",
       "    }\n",
       "\n",
       "    .dataframe tbody tr th {\n",
       "        vertical-align: top;\n",
       "    }\n",
       "\n",
       "    .dataframe thead th {\n",
       "        text-align: right;\n",
       "    }\n",
       "</style>\n",
       "<table border=\"1\" class=\"dataframe\">\n",
       "  <thead>\n",
       "    <tr style=\"text-align: right;\">\n",
       "      <th></th>\n",
       "      <th>Loan_ID</th>\n",
       "      <th>Gender</th>\n",
       "      <th>Married</th>\n",
       "      <th>Dependents</th>\n",
       "      <th>Education</th>\n",
       "      <th>Self_Employed</th>\n",
       "      <th>ApplicantIncome</th>\n",
       "      <th>CoapplicantIncome</th>\n",
       "      <th>LoanAmount</th>\n",
       "      <th>Loan_Amount_Term</th>\n",
       "      <th>Credit_History</th>\n",
       "      <th>Property_Area</th>\n",
       "      <th>Loan_Status</th>\n",
       "    </tr>\n",
       "  </thead>\n",
       "  <tbody>\n",
       "    <tr>\n",
       "      <th>0</th>\n",
       "      <td>LP001002</td>\n",
       "      <td>Male</td>\n",
       "      <td>No</td>\n",
       "      <td>0</td>\n",
       "      <td>Graduate</td>\n",
       "      <td>No</td>\n",
       "      <td>5849</td>\n",
       "      <td>0.0</td>\n",
       "      <td>NaN</td>\n",
       "      <td>360.0</td>\n",
       "      <td>1.0</td>\n",
       "      <td>Urban</td>\n",
       "      <td>Y</td>\n",
       "    </tr>\n",
       "    <tr>\n",
       "      <th>1</th>\n",
       "      <td>LP001003</td>\n",
       "      <td>Male</td>\n",
       "      <td>Yes</td>\n",
       "      <td>1</td>\n",
       "      <td>Graduate</td>\n",
       "      <td>No</td>\n",
       "      <td>4583</td>\n",
       "      <td>1508.0</td>\n",
       "      <td>128.0</td>\n",
       "      <td>360.0</td>\n",
       "      <td>1.0</td>\n",
       "      <td>Rural</td>\n",
       "      <td>N</td>\n",
       "    </tr>\n",
       "    <tr>\n",
       "      <th>2</th>\n",
       "      <td>LP001005</td>\n",
       "      <td>Male</td>\n",
       "      <td>Yes</td>\n",
       "      <td>0</td>\n",
       "      <td>Graduate</td>\n",
       "      <td>Yes</td>\n",
       "      <td>3000</td>\n",
       "      <td>0.0</td>\n",
       "      <td>66.0</td>\n",
       "      <td>360.0</td>\n",
       "      <td>1.0</td>\n",
       "      <td>Urban</td>\n",
       "      <td>Y</td>\n",
       "    </tr>\n",
       "    <tr>\n",
       "      <th>3</th>\n",
       "      <td>LP001006</td>\n",
       "      <td>Male</td>\n",
       "      <td>Yes</td>\n",
       "      <td>0</td>\n",
       "      <td>Not Graduate</td>\n",
       "      <td>No</td>\n",
       "      <td>2583</td>\n",
       "      <td>2358.0</td>\n",
       "      <td>120.0</td>\n",
       "      <td>360.0</td>\n",
       "      <td>1.0</td>\n",
       "      <td>Urban</td>\n",
       "      <td>Y</td>\n",
       "    </tr>\n",
       "    <tr>\n",
       "      <th>4</th>\n",
       "      <td>LP001008</td>\n",
       "      <td>Male</td>\n",
       "      <td>No</td>\n",
       "      <td>0</td>\n",
       "      <td>Graduate</td>\n",
       "      <td>No</td>\n",
       "      <td>6000</td>\n",
       "      <td>0.0</td>\n",
       "      <td>141.0</td>\n",
       "      <td>360.0</td>\n",
       "      <td>1.0</td>\n",
       "      <td>Urban</td>\n",
       "      <td>Y</td>\n",
       "    </tr>\n",
       "  </tbody>\n",
       "</table>\n",
       "</div>"
      ],
      "text/plain": [
       "    Loan_ID Gender Married Dependents     Education Self_Employed  \\\n",
       "0  LP001002   Male      No          0      Graduate            No   \n",
       "1  LP001003   Male     Yes          1      Graduate            No   \n",
       "2  LP001005   Male     Yes          0      Graduate           Yes   \n",
       "3  LP001006   Male     Yes          0  Not Graduate            No   \n",
       "4  LP001008   Male      No          0      Graduate            No   \n",
       "\n",
       "   ApplicantIncome  CoapplicantIncome  LoanAmount  Loan_Amount_Term  \\\n",
       "0             5849                0.0         NaN             360.0   \n",
       "1             4583             1508.0       128.0             360.0   \n",
       "2             3000                0.0        66.0             360.0   \n",
       "3             2583             2358.0       120.0             360.0   \n",
       "4             6000                0.0       141.0             360.0   \n",
       "\n",
       "   Credit_History Property_Area Loan_Status  \n",
       "0             1.0         Urban           Y  \n",
       "1             1.0         Rural           N  \n",
       "2             1.0         Urban           Y  \n",
       "3             1.0         Urban           Y  \n",
       "4             1.0         Urban           Y  "
      ]
     },
     "execution_count": 4,
     "metadata": {},
     "output_type": "execute_result"
    }
   ],
   "source": [
    "df.head()"
   ]
  },
  {
   "cell_type": "code",
   "execution_count": 5,
   "id": "466d5176-91ce-4798-92ef-c452ac1d4f42",
   "metadata": {},
   "outputs": [
    {
     "data": {
      "text/html": [
       "<div>\n",
       "<style scoped>\n",
       "    .dataframe tbody tr th:only-of-type {\n",
       "        vertical-align: middle;\n",
       "    }\n",
       "\n",
       "    .dataframe tbody tr th {\n",
       "        vertical-align: top;\n",
       "    }\n",
       "\n",
       "    .dataframe thead th {\n",
       "        text-align: right;\n",
       "    }\n",
       "</style>\n",
       "<table border=\"1\" class=\"dataframe\">\n",
       "  <thead>\n",
       "    <tr style=\"text-align: right;\">\n",
       "      <th></th>\n",
       "      <th>ApplicantIncome</th>\n",
       "      <th>CoapplicantIncome</th>\n",
       "      <th>LoanAmount</th>\n",
       "      <th>Loan_Amount_Term</th>\n",
       "      <th>Credit_History</th>\n",
       "    </tr>\n",
       "  </thead>\n",
       "  <tbody>\n",
       "    <tr>\n",
       "      <th>count</th>\n",
       "      <td>614.000000</td>\n",
       "      <td>614.000000</td>\n",
       "      <td>592.000000</td>\n",
       "      <td>600.00000</td>\n",
       "      <td>564.000000</td>\n",
       "    </tr>\n",
       "    <tr>\n",
       "      <th>mean</th>\n",
       "      <td>5403.459283</td>\n",
       "      <td>1621.245798</td>\n",
       "      <td>146.412162</td>\n",
       "      <td>342.00000</td>\n",
       "      <td>0.842199</td>\n",
       "    </tr>\n",
       "    <tr>\n",
       "      <th>std</th>\n",
       "      <td>6109.041673</td>\n",
       "      <td>2926.248369</td>\n",
       "      <td>85.587325</td>\n",
       "      <td>65.12041</td>\n",
       "      <td>0.364878</td>\n",
       "    </tr>\n",
       "    <tr>\n",
       "      <th>min</th>\n",
       "      <td>150.000000</td>\n",
       "      <td>0.000000</td>\n",
       "      <td>9.000000</td>\n",
       "      <td>12.00000</td>\n",
       "      <td>0.000000</td>\n",
       "    </tr>\n",
       "    <tr>\n",
       "      <th>25%</th>\n",
       "      <td>2877.500000</td>\n",
       "      <td>0.000000</td>\n",
       "      <td>100.000000</td>\n",
       "      <td>360.00000</td>\n",
       "      <td>1.000000</td>\n",
       "    </tr>\n",
       "    <tr>\n",
       "      <th>50%</th>\n",
       "      <td>3812.500000</td>\n",
       "      <td>1188.500000</td>\n",
       "      <td>128.000000</td>\n",
       "      <td>360.00000</td>\n",
       "      <td>1.000000</td>\n",
       "    </tr>\n",
       "    <tr>\n",
       "      <th>75%</th>\n",
       "      <td>5795.000000</td>\n",
       "      <td>2297.250000</td>\n",
       "      <td>168.000000</td>\n",
       "      <td>360.00000</td>\n",
       "      <td>1.000000</td>\n",
       "    </tr>\n",
       "    <tr>\n",
       "      <th>max</th>\n",
       "      <td>81000.000000</td>\n",
       "      <td>41667.000000</td>\n",
       "      <td>700.000000</td>\n",
       "      <td>480.00000</td>\n",
       "      <td>1.000000</td>\n",
       "    </tr>\n",
       "  </tbody>\n",
       "</table>\n",
       "</div>"
      ],
      "text/plain": [
       "       ApplicantIncome  CoapplicantIncome  LoanAmount  Loan_Amount_Term  \\\n",
       "count       614.000000         614.000000  592.000000         600.00000   \n",
       "mean       5403.459283        1621.245798  146.412162         342.00000   \n",
       "std        6109.041673        2926.248369   85.587325          65.12041   \n",
       "min         150.000000           0.000000    9.000000          12.00000   \n",
       "25%        2877.500000           0.000000  100.000000         360.00000   \n",
       "50%        3812.500000        1188.500000  128.000000         360.00000   \n",
       "75%        5795.000000        2297.250000  168.000000         360.00000   \n",
       "max       81000.000000       41667.000000  700.000000         480.00000   \n",
       "\n",
       "       Credit_History  \n",
       "count      564.000000  \n",
       "mean         0.842199  \n",
       "std          0.364878  \n",
       "min          0.000000  \n",
       "25%          1.000000  \n",
       "50%          1.000000  \n",
       "75%          1.000000  \n",
       "max          1.000000  "
      ]
     },
     "execution_count": 5,
     "metadata": {},
     "output_type": "execute_result"
    }
   ],
   "source": [
    "df.describe()"
   ]
  },
  {
   "cell_type": "code",
   "execution_count": 6,
   "id": "95bdf019-964d-4930-8ce5-b357d3430590",
   "metadata": {},
   "outputs": [
    {
     "data": {
      "text/plain": [
       "Loan_ID               0\n",
       "Gender               13\n",
       "Married               3\n",
       "Dependents           15\n",
       "Education             0\n",
       "Self_Employed        32\n",
       "ApplicantIncome       0\n",
       "CoapplicantIncome     0\n",
       "LoanAmount           22\n",
       "Loan_Amount_Term     14\n",
       "Credit_History       50\n",
       "Property_Area         0\n",
       "Loan_Status           0\n",
       "dtype: int64"
      ]
     },
     "execution_count": 6,
     "metadata": {},
     "output_type": "execute_result"
    }
   ],
   "source": [
    "df.isnull().sum()"
   ]
  },
  {
   "cell_type": "code",
   "execution_count": 7,
   "id": "d8e3f4b2-4ff7-434a-bb11-6c270df80888",
   "metadata": {},
   "outputs": [],
   "source": [
    "df = df.dropna()"
   ]
  },
  {
   "cell_type": "code",
   "execution_count": 8,
   "id": "c91abc42-77a4-4767-9b91-0df73777410e",
   "metadata": {},
   "outputs": [
    {
     "data": {
      "text/plain": [
       "Loan_ID              0\n",
       "Gender               0\n",
       "Married              0\n",
       "Dependents           0\n",
       "Education            0\n",
       "Self_Employed        0\n",
       "ApplicantIncome      0\n",
       "CoapplicantIncome    0\n",
       "LoanAmount           0\n",
       "Loan_Amount_Term     0\n",
       "Credit_History       0\n",
       "Property_Area        0\n",
       "Loan_Status          0\n",
       "dtype: int64"
      ]
     },
     "execution_count": 8,
     "metadata": {},
     "output_type": "execute_result"
    }
   ],
   "source": [
    "df.isnull().sum()"
   ]
  },
  {
   "cell_type": "markdown",
   "id": "eea47443-7e4a-49d8-a1b4-b76e610af72b",
   "metadata": {},
   "source": [
    "Label Encoding"
   ]
  },
  {
   "cell_type": "code",
   "execution_count": 9,
   "id": "92819869-6703-4eec-a76e-e8fb598a766c",
   "metadata": {},
   "outputs": [
    {
     "name": "stderr",
     "output_type": "stream",
     "text": [
      "C:\\Users\\hp\\AppData\\Local\\Temp\\ipykernel_17984\\988507513.py:1: FutureWarning: Downcasting behavior in `replace` is deprecated and will be removed in a future version. To retain the old behavior, explicitly call `result.infer_objects(copy=False)`. To opt-in to the future behavior, set `pd.set_option('future.no_silent_downcasting', True)`\n",
      "  df.replace({\"Loan_Status\": {'N': 0, 'Y': 1}}, inplace=True)\n"
     ]
    }
   ],
   "source": [
    "df.replace({\"Loan_Status\": {'N': 0, 'Y': 1}}, inplace=True)\n"
   ]
  },
  {
   "cell_type": "code",
   "execution_count": 10,
   "id": "d268af74-bc52-4e91-8f27-7a755a239675",
   "metadata": {},
   "outputs": [
    {
     "data": {
      "text/plain": [
       "Dependents\n",
       "0     274\n",
       "2      85\n",
       "1      80\n",
       "3+     41\n",
       "Name: count, dtype: int64"
      ]
     },
     "execution_count": 10,
     "metadata": {},
     "output_type": "execute_result"
    }
   ],
   "source": [
    "df['Dependents'].value_counts()\n"
   ]
  },
  {
   "cell_type": "code",
   "execution_count": 11,
   "id": "5bff4959-0f2a-4565-aef0-7e3a2d990731",
   "metadata": {},
   "outputs": [],
   "source": [
    "df['Dependents'] = df['Dependents'].replace('3+', 4)\n"
   ]
  },
  {
   "cell_type": "code",
   "execution_count": 12,
   "id": "b16d41ec-874f-4f72-bdc3-e5cc9c8285ea",
   "metadata": {},
   "outputs": [
    {
     "data": {
      "text/plain": [
       "Dependents\n",
       "0    274\n",
       "2     85\n",
       "1     80\n",
       "4     41\n",
       "Name: count, dtype: int64"
      ]
     },
     "execution_count": 12,
     "metadata": {},
     "output_type": "execute_result"
    }
   ],
   "source": [
    "df['Dependents'].value_counts()"
   ]
  },
  {
   "cell_type": "markdown",
   "id": "7b3ce72f-bf4b-48f6-995e-b3a603d857d0",
   "metadata": {},
   "source": [
    "Data Visulization"
   ]
  },
  {
   "cell_type": "code",
   "execution_count": null,
   "id": "daa3badf-828c-4c35-aa0a-c49a67ec5ef3",
   "metadata": {},
   "outputs": [],
   "source": [
    "import seaborn as sns\n",
    "sns.countplot(x = 'Education', hue = 'Loan_Status', data = df)"
   ]
  },
  {
   "cell_type": "code",
   "execution_count": null,
   "id": "ac1fa9e8-55b2-4b4a-aea6-53d89965187f",
   "metadata": {},
   "outputs": [],
   "source": [
    "sns.countplot(x ='Gender', hue = 'Loan_Status', data = df)"
   ]
  },
  {
   "cell_type": "code",
   "execution_count": null,
   "id": "f22d2b82-2481-404c-9b31-b79ea5a2fba7",
   "metadata": {},
   "outputs": [],
   "source": [
    "sns.countplot(x ='Married', hue = 'Loan_Status', data = df)"
   ]
  },
  {
   "cell_type": "markdown",
   "id": "4f5fe712-1722-46d9-a5ca-a1757e380b69",
   "metadata": {},
   "source": [
    "Converting Text Data to numerical value"
   ]
  },
  {
   "cell_type": "code",
   "execution_count": null,
   "id": "e7240b44-1102-4411-bc2a-0f72394b3d1d",
   "metadata": {},
   "outputs": [],
   "source": [
    "df.replace({'Married':{'No':0,'Yes':1},\n",
    "            'Gender':{'Male':1, 'Female':0},\n",
    "            'Education':{'Graduate':1,'Not Graduate':0},\n",
    "            'Self_Employed':{'Yes':1,'No':0},\n",
    "            'Property_Area':{'Rural':0,'Urban':1,'Semiurban':3},\n",
    "           },\n",
    "            inplace=True)"
   ]
  },
  {
   "cell_type": "code",
   "execution_count": null,
   "id": "15dec52d-8f8f-46b5-9862-935ca878e69f",
   "metadata": {},
   "outputs": [],
   "source": [
    "df.head()"
   ]
  },
  {
   "cell_type": "code",
   "execution_count": null,
   "id": "c527fbf8-5d00-4c92-a0c5-c426d83737ce",
   "metadata": {},
   "outputs": [],
   "source": [
    "df['Property_Area'].value_counts()"
   ]
  },
  {
   "cell_type": "code",
   "execution_count": null,
   "id": "e64b03d1-0496-4df5-a11f-fdb7b27a9965",
   "metadata": {},
   "outputs": [],
   "source": [
    "df['Education'].value_counts()"
   ]
  },
  {
   "cell_type": "code",
   "execution_count": null,
   "id": "6040f7c0-825c-4123-981f-738e40bea661",
   "metadata": {},
   "outputs": [],
   "source": [
    "X = df.drop(columns = ['Loan_ID','Loan_Status'], axis = 1)\n",
    "Y = df['Loan_Status']"
   ]
  },
  {
   "cell_type": "code",
   "execution_count": null,
   "id": "69b3bb82-7c07-4080-9eab-3570eb7ace37",
   "metadata": {},
   "outputs": [],
   "source": [
    "print(X)\n",
    "print(Y)"
   ]
  },
  {
   "cell_type": "markdown",
   "id": "0a2af663-7bf7-4e1d-a105-7de312b3cdf3",
   "metadata": {},
   "source": [
    "Train Test Split"
   ]
  },
  {
   "cell_type": "code",
   "execution_count": null,
   "id": "4c493fda-1275-4c36-8a3d-c95d184bb986",
   "metadata": {},
   "outputs": [],
   "source": [
    "X_train, X_test, Y_train, Y_test = train_test_split(X,Y,test_size=0.1,stratify=Y,random_state=2)"
   ]
  },
  {
   "cell_type": "code",
   "execution_count": null,
   "id": "93aebc54-905e-4640-8377-0ca821b12d8b",
   "metadata": {},
   "outputs": [],
   "source": [
    "print(X.shape, X_train.shape, Y_test.shape)"
   ]
  },
  {
   "cell_type": "markdown",
   "id": "d61f55f0-1f10-498e-a990-df1d21685f76",
   "metadata": {},
   "source": [
    "Training the model: Support Vector  Machine Model"
   ]
  },
  {
   "cell_type": "code",
   "execution_count": null,
   "id": "1cff92ac-1534-41ee-a3ce-31ded04e9ade",
   "metadata": {},
   "outputs": [],
   "source": [
    "classifier = svm.SVC(kernel='linear')"
   ]
  },
  {
   "cell_type": "code",
   "execution_count": null,
   "id": "5d79bd77-0cc0-4da8-8520-bcd766d6dc23",
   "metadata": {},
   "outputs": [],
   "source": [
    "classifier.fit(X_train,Y_train)"
   ]
  },
  {
   "cell_type": "markdown",
   "id": "d29f6790-d8b7-4af0-9e3c-f588e0621af3",
   "metadata": {},
   "source": [
    "Model Evaluation"
   ]
  },
  {
   "cell_type": "code",
   "execution_count": null,
   "id": "d9a57a90-836e-4097-9f8c-5c8053c4e1e7",
   "metadata": {},
   "outputs": [],
   "source": [
    "#accuracy score on training data\n",
    "X_train_prediction = classifier.predict(X_train)\n",
    "training_data_accuracy = accuracy_score(X_train_prediction, Y_train)"
   ]
  },
  {
   "cell_type": "code",
   "execution_count": null,
   "id": "bcba5dfd-ac52-4630-a70e-a5437943d9f7",
   "metadata": {},
   "outputs": [],
   "source": [
    "print('Accuracy on training data : ', training_data_accuracy)"
   ]
  },
  {
   "cell_type": "code",
   "execution_count": null,
   "id": "65fd0b2d-2f91-4182-8579-869167ebec01",
   "metadata": {},
   "outputs": [],
   "source": [
    "#accuracy score on training data\n",
    "X_test_prediction = classifier.predict(X_test)\n",
    "test_data_accuracy = accuracy_score(X_test_prediction, Y_test)"
   ]
  },
  {
   "cell_type": "code",
   "execution_count": null,
   "id": "827c7bcf-de52-474a-8d71-363949437a2c",
   "metadata": {},
   "outputs": [],
   "source": [
    "print('Accuracy on test data : ', test_data_accuracy)"
   ]
  },
  {
   "cell_type": "markdown",
   "id": "93ddef6b-495e-4525-9cfa-d35d574d4007",
   "metadata": {},
   "source": [
    "Predictive System"
   ]
  },
  {
   "cell_type": "code",
   "execution_count": null,
   "id": "4a0bca6f-280a-4b24-a06a-c59ce3b37982",
   "metadata": {},
   "outputs": [],
   "source": [
    "mappings = {\n",
    "    'Gender': {'Male': 1, 'Female': 0},\n",
    "    'Married': {'Yes': 1, 'No': 0},\n",
    "    'Education': {'Graduate': 1, 'Not Graduate': 0},\n",
    "    'Self_Employed': {'Yes': 1, 'No': 0},\n",
    "    'Property_Area': {'Rural': 0, 'Urban': 1, 'Semiurban': 3}\n",
    "    # Add more if needed\n",
    "}\n"
   ]
  },
  {
   "cell_type": "code",
   "execution_count": null,
   "id": "cf796c8c-a47c-46f9-a920-303ceabb2549",
   "metadata": {},
   "outputs": [],
   "source": [
    "import numpy as np\n",
    "\n",
    "def predict_loan_status_human_readable(input_data_hr):\n",
    "    # input_data_hr: list of human readable values\n",
    "    \n",
    "    # Example: \n",
    "    # ['Male', 'Yes', 0, 'Graduate', 'No', 5000, 0, 128.0, 360.0, 1.0, 'Urban']\n",
    "    \n",
    "    mappings = {\n",
    "        'Gender': {'Male': 1, 'Female': 0},\n",
    "        'Married': {'Yes': 1, 'No': 0},\n",
    "        'Education': {'Graduate': 1, 'Not Graduate': 0},\n",
    "        'Self_Employed': {'Yes': 1, 'No': 0},\n",
    "        'Property_Area': {'Rural': 0, 'Urban': 1, 'Semiurban': 3}\n",
    "    }\n",
    "    \n",
    "    # Manually convert using mappings\n",
    "    converted_data = [\n",
    "        mappings['Gender'][input_data_hr[0]],\n",
    "        mappings['Married'][input_data_hr[1]],\n",
    "        input_data_hr[2],  # Dependents (numeric, no mapping)\n",
    "        mappings['Education'][input_data_hr[3]],\n",
    "        mappings['Self_Employed'][input_data_hr[4]],\n",
    "        input_data_hr[5],  # ApplicantIncome\n",
    "        input_data_hr[6],  # CoapplicantIncome\n",
    "        input_data_hr[7],  # LoanAmount\n",
    "        input_data_hr[8],  # Loan_Amount_Term\n",
    "        input_data_hr[9],  # Credit_History\n",
    "        mappings['Property_Area'][input_data_hr[10]]\n",
    "    ]\n",
    "    \n",
    "    input_data_as_numpy_array = np.asarray(converted_data)\n",
    "    input_data_reshaped = input_data_as_numpy_array.reshape(1, -1)\n",
    "    \n",
    "    prediction = classifier.predict(input_data_reshaped)\n",
    "    \n",
    "    if prediction[0] == 1:\n",
    "        return 'Loan Approved ✅'\n",
    "    else:\n",
    "        return 'Loan Not Approved ❌'\n"
   ]
  },
  {
   "cell_type": "markdown",
   "id": "884757ee-4735-4eb1-8738-3704bf753e7b",
   "metadata": {},
   "source": [
    "# Example input in human words\n",
    "result = predict_loan_status_human_readable(\n",
    "    # input: [Gender, Married, Dependents, Education, Self_Employed, ApplicantIncome, CoapplicantIncome, LoanAmount, Loan_Amount_Term, Credit_History, Property_Area]\n",
    "    ['Male', 'Yes', 0, 'Graduate', 'Yes', 100000, 100000, 80000, 123, 3.0, 'Urban']\n",
    ")\n",
    "print(result)\n"
   ]
  },
  {
   "cell_type": "code",
   "execution_count": null,
   "id": "ee410870-058d-4243-92e5-05d94e29f01a",
   "metadata": {},
   "outputs": [],
   "source": [
    "pip install ipywidgets\n"
   ]
  },
  {
   "cell_type": "markdown",
   "id": "dd014f18-48f9-4efb-b48a-cb1a4652a553",
   "metadata": {},
   "source": [
    "MAX LIMIT \n",
    "ApplicantIncome: 500000 INR\n",
    "LoanAmount: 2000000 INR\n"
   ]
  },
  {
   "cell_type": "code",
   "execution_count": null,
   "id": "b5ff75dc-bd98-432a-95ca-3a362687b2fa",
   "metadata": {},
   "outputs": [],
   "source": [
    "import ipywidgets as widgets\n",
    "from IPython.display import display\n",
    "\n",
    "# Categorical dropdowns\n",
    "gender = widgets.Dropdown(\n",
    "    options=['Male', 'Female'],\n",
    "    description='Gender:'\n",
    ")\n",
    "\n",
    "married = widgets.Dropdown(\n",
    "    options=['Yes', 'No'],\n",
    "    description='Married:'\n",
    ")\n",
    "\n",
    "education = widgets.Dropdown(\n",
    "    options=['Graduate', 'Not Graduate'],\n",
    "    description='Education:'\n",
    ")\n",
    "\n",
    "self_employed = widgets.Dropdown(\n",
    "    options=['Yes', 'No'],\n",
    "    description='Self Employed:'\n",
    ")\n",
    "\n",
    "property_area = widgets.Dropdown(\n",
    "    options=['Urban', 'Rural', 'Semiurban'],\n",
    "    description='Property Area:'\n",
    ")\n",
    "\n",
    "# Numeric inputs\n",
    "dependents = widgets.IntSlider(\n",
    "    value=0, min=0, max=4, step=1,\n",
    "    description='Dependents:'\n",
    ")\n",
    "\n",
    "applicant_income = widgets.FloatText(\n",
    "    value=5000,\n",
    "    description='Applicant Income (INR):'\n",
    ")\n",
    "\n",
    "coapplicant_income = widgets.FloatText(\n",
    "    value=0,\n",
    "    description='Coapplicant Income (INR):'\n",
    ")\n",
    "\n",
    "loan_amount = widgets.FloatText(\n",
    "    value=128,\n",
    "    description='Loan Amount (INR in Thousands):'\n",
    ")\n",
    "\n",
    "loan_amount_term = widgets.FloatText(\n",
    "    value=360,\n",
    "    description='Loan Term:'\n",
    ")\n",
    "\n",
    "credit_history = widgets.Dropdown(\n",
    "    options=[1.0, 0.0],\n",
    "    description='Credit History:'\n",
    ")\n",
    "\n",
    "# Display widgets\n",
    "display(gender, married, dependents, education, self_employed,\n",
    "        applicant_income, coapplicant_income, loan_amount,\n",
    "        loan_amount_term, credit_history, property_area)\n"
   ]
  },
  {
   "cell_type": "code",
   "execution_count": null,
   "id": "1c9b985b-7f8f-4243-8b02-021e1aedd958",
   "metadata": {},
   "outputs": [],
   "source": [
    "from IPython.display import display\n",
    "import numpy as np\n",
    "\n",
    "button = widgets.Button(description=\"Predict\")\n",
    "\n",
    "output = widgets.Output()\n",
    "\n",
    "def on_button_clicked(b):\n",
    "    # ✅ Do NOT overwrite the widget’s .value!\n",
    "    applicant_income_usd = float(applicant_income.value) / 83\n",
    "    coapplicant_income_usd = float(coapplicant_income.value) / 83\n",
    "    loan_amount_usd = float(loan_amount.value) / 83\n",
    "\n",
    "    input_data_hr = [\n",
    "        gender.value,\n",
    "        married.value,\n",
    "        dependents.value,\n",
    "        education.value,\n",
    "        self_employed.value,\n",
    "        applicant_income_usd,      # use the converted variable\n",
    "        coapplicant_income_usd,    # use the converted variable\n",
    "        loan_amount_usd,           # use the converted variable\n",
    "        float(loan_amount_term.value),  # leave as-is\n",
    "        float(credit_history.value),\n",
    "        property_area.value\n",
    "    ]\n",
    "\n",
    "    result = predict_loan_status_human_readable(input_data_hr)\n",
    "\n",
    "    with output:\n",
    "        output.clear_output()\n",
    "        print(result)\n",
    "\n",
    "\n",
    "button.on_click(on_button_clicked)\n",
    "\n",
    "display(button, output)\n"
   ]
  },
  {
   "cell_type": "code",
   "execution_count": null,
   "id": "030c6430-eb16-41d0-9045-e930c4dba99d",
   "metadata": {},
   "outputs": [],
   "source": []
  }
 ],
 "metadata": {
  "kernelspec": {
   "display_name": "Python 3 (ipykernel)",
   "language": "python",
   "name": "python3"
  },
  "language_info": {
   "codemirror_mode": {
    "name": "ipython",
    "version": 3
   },
   "file_extension": ".py",
   "mimetype": "text/x-python",
   "name": "python",
   "nbconvert_exporter": "python",
   "pygments_lexer": "ipython3",
   "version": "3.13.0"
  }
 },
 "nbformat": 4,
 "nbformat_minor": 5
}
                                                                                                                                                                                                              
